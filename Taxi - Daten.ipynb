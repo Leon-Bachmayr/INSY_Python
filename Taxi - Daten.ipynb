{
 "cells": [
  {
   "cell_type": "code",
   "execution_count": 12,
   "metadata": {
    "collapsed": true
   },
   "outputs": [],
   "source": [
    "%matplotlib inline\n",
    "\n",
    "import matplotlib.pyplot as plt\n",
    "\n",
    "import pyspark\n",
    "from pyspark.sql import SparkSession\n",
    "from pyspark.sql.functions import col\n",
    "from pyspark.sql.types import *\n",
    "\n",
    "\n",
    "import initspark"
   ]
  },
  {
   "cell_type": "code",
   "execution_count": 13,
   "metadata": {
    "collapsed": true
   },
   "outputs": [],
   "source": [
    "spark = SparkSession.builder.appName(\"TaxiData\").getOrCreate()\n",
    "\n",
    "schema = StructType([\n",
    "    StructField(\"date\", StringType()),\n",
    "    StructField(\"lat\", DoubleType()),\n",
    "    StructField(\"lon\", DoubleType()),\n",
    "    StructField(\"base\", StringType())\n",
    "])\n",
    "\n",
    "csv = spark.read.option(\"header\", \"true\").csv(\"./data/uber/*.csv\", schema = schema).cache()"
   ]
  },
  {
   "cell_type": "code",
   "execution_count": 14,
   "metadata": {},
   "outputs": [
    {
     "name": "stdout",
     "output_type": "stream",
     "text": [
      "+----------------+-------+--------+------+\n",
      "|            date|    lat|     lon|  base|\n",
      "+----------------+-------+--------+------+\n",
      "|9/1/2014 0:01:00|40.2201|-74.0021|B02512|\n",
      "|9/1/2014 0:01:00|  40.75|-74.0027|B02512|\n",
      "|9/1/2014 0:03:00|40.7559|-73.9864|B02512|\n",
      "|9/1/2014 0:06:00| 40.745|-73.9889|B02512|\n",
      "|9/1/2014 0:11:00|40.8145|-73.9444|B02512|\n",
      "|9/1/2014 0:12:00|40.6735|-73.9918|B02512|\n",
      "|9/1/2014 0:15:00|40.7471|-73.6472|B02512|\n",
      "|9/1/2014 0:16:00|40.6613|-74.2691|B02512|\n",
      "|9/1/2014 0:32:00|40.3745|-73.9999|B02512|\n",
      "|9/1/2014 0:33:00|40.7633|-73.9773|B02512|\n",
      "|9/1/2014 0:33:00|40.7467|-73.6131|B02512|\n",
      "|9/1/2014 0:37:00|40.8105|  -73.96|B02512|\n",
      "|9/1/2014 0:38:00| 40.679|-74.0111|B02512|\n",
      "|9/1/2014 0:39:00|40.4023|-73.9839|B02512|\n",
      "|9/1/2014 0:48:00|40.7378|-74.0395|B02512|\n",
      "|9/1/2014 0:48:00|40.7214|-73.9884|B02512|\n",
      "|9/1/2014 0:49:00|40.8646|-73.9081|B02512|\n",
      "|9/1/2014 1:08:00|40.7398|-74.0061|B02512|\n",
      "|9/1/2014 1:17:00|40.6793|-74.0116|B02512|\n",
      "|9/1/2014 1:19:00|40.7328|-73.9875|B02512|\n",
      "+----------------+-------+--------+------+\n",
      "only showing top 20 rows\n",
      "\n"
     ]
    }
   ],
   "source": [
    "csv.show()"
   ]
  },
  {
   "cell_type": "code",
   "execution_count": 15,
   "metadata": {},
   "outputs": [
    {
     "data": {
      "text/plain": [
       "4534327"
      ]
     },
     "execution_count": 15,
     "metadata": {},
     "output_type": "execute_result"
    }
   ],
   "source": [
    "csv.count()"
   ]
  },
  {
   "cell_type": "code",
   "execution_count": 16,
   "metadata": {},
   "outputs": [
    {
     "name": "stdout",
     "output_type": "stream",
     "text": [
      "root\n",
      " |-- date: string (nullable = true)\n",
      " |-- lat: double (nullable = true)\n",
      " |-- lon: double (nullable = true)\n",
      " |-- base: string (nullable = true)\n",
      "\n"
     ]
    }
   ],
   "source": [
    "csv.printSchema()"
   ]
  },
  {
   "cell_type": "code",
   "execution_count": 17,
   "metadata": {},
   "outputs": [
    {
     "name": "stdout",
     "output_type": "stream",
     "text": [
      "2014-08-01 00:36:00\n"
     ]
    }
   ],
   "source": [
    "from datetime import datetime\n",
    "\n",
    "dateItem = \"8/1/2014 0:36:00\"\n",
    "\n",
    "print(datetime.strptime(\"8/1/2014 0:36:00\", \"%m/%d/%Y %H:%M:%S\"))"
   ]
  },
  {
   "cell_type": "code",
   "execution_count": 18,
   "metadata": {
    "collapsed": true
   },
   "outputs": [],
   "source": [
    "from pyspark.sql.functions import udf\n",
    "\n",
    "f = udf(lambda x: datetime.strptime(x, \"%m/%d/%Y %H:%M:%S\"), TimestampType())"
   ]
  },
  {
   "cell_type": "code",
   "execution_count": 19,
   "metadata": {},
   "outputs": [
    {
     "name": "stdout",
     "output_type": "stream",
     "text": [
      "root\n",
      " |-- date: timestamp (nullable = true)\n",
      " |-- lat: double (nullable = true)\n",
      " |-- lon: double (nullable = true)\n",
      " |-- base: string (nullable = true)\n",
      "\n"
     ]
    }
   ],
   "source": [
    "csv.withColumn(\"date\", f(csv.date)).printSchema()"
   ]
  },
  {
   "cell_type": "code",
   "execution_count": 20,
   "metadata": {
    "collapsed": true
   },
   "outputs": [],
   "source": [
    "data = csv.withColumn(\"date\", f(csv.date))"
   ]
  },
  {
   "cell_type": "markdown",
   "metadata": {},
   "source": [
    "PySpark SQL - Dokumentation: http://spark.apache.org/docs/2.1.0/api/python/pyspark.sql.html"
   ]
  },
  {
   "cell_type": "code",
   "execution_count": 21,
   "metadata": {},
   "outputs": [
    {
     "name": "stdout",
     "output_type": "stream",
     "text": [
      "+--------------------+-------+--------+------+\n",
      "|                date|    lat|     lon|  base|\n",
      "+--------------------+-------+--------+------+\n",
      "|2014-09-01 00:01:...|40.2201|-74.0021|B02512|\n",
      "|2014-09-01 00:01:...|  40.75|-74.0027|B02512|\n",
      "|2014-09-01 00:03:...|40.7559|-73.9864|B02512|\n",
      "|2014-09-01 00:06:...| 40.745|-73.9889|B02512|\n",
      "|2014-09-01 00:11:...|40.8145|-73.9444|B02512|\n",
      "|2014-09-01 00:12:...|40.6735|-73.9918|B02512|\n",
      "|2014-09-01 00:15:...|40.7471|-73.6472|B02512|\n",
      "|2014-09-01 00:16:...|40.6613|-74.2691|B02512|\n",
      "|2014-09-01 00:32:...|40.3745|-73.9999|B02512|\n",
      "|2014-09-01 00:33:...|40.7633|-73.9773|B02512|\n",
      "|2014-09-01 00:33:...|40.7467|-73.6131|B02512|\n",
      "|2014-09-01 00:37:...|40.8105|  -73.96|B02512|\n",
      "|2014-09-01 00:38:...| 40.679|-74.0111|B02512|\n",
      "|2014-09-01 00:39:...|40.4023|-73.9839|B02512|\n",
      "|2014-09-01 00:48:...|40.7378|-74.0395|B02512|\n",
      "|2014-09-01 00:48:...|40.7214|-73.9884|B02512|\n",
      "|2014-09-01 00:49:...|40.8646|-73.9081|B02512|\n",
      "|2014-09-01 01:08:...|40.7398|-74.0061|B02512|\n",
      "|2014-09-01 01:17:...|40.6793|-74.0116|B02512|\n",
      "|2014-09-01 01:19:...|40.7328|-73.9875|B02512|\n",
      "+--------------------+-------+--------+------+\n",
      "only showing top 20 rows\n",
      "\n"
     ]
    }
   ],
   "source": [
    "data.show()"
   ]
  },
  {
   "cell_type": "code",
   "execution_count": 22,
   "metadata": {
    "collapsed": true
   },
   "outputs": [],
   "source": [
    "import pyspark.sql.functions as F"
   ]
  },
  {
   "cell_type": "code",
   "execution_count": 28,
   "metadata": {},
   "outputs": [
    {
     "data": {
      "text/plain": [
       "DataFrame[date_format(date, H): string, count: bigint]"
      ]
     },
     "execution_count": 28,
     "metadata": {},
     "output_type": "execute_result"
    }
   ],
   "source": [
    "data.groupBy(F.date_format(data.date, \"H\")).count()"
   ]
  },
  {
   "cell_type": "code",
   "execution_count": 29,
   "metadata": {
    "collapsed": true
   },
   "outputs": [],
   "source": [
    "dataPerHour = data\\\n",
    "    .groupBy(F.date_format(data.date, \"H\"))\\\n",
    "    .count()\\\n",
    "    .orderBy(\"date_format(date, H)\")\\\n",
    "    .cache()"
   ]
  },
  {
   "cell_type": "code",
   "execution_count": 32,
   "metadata": {},
   "outputs": [
    {
     "name": "stdout",
     "output_type": "stream",
     "text": [
      "+--------------------+------+----+\n",
      "|date_format(date, H)| count|hour|\n",
      "+--------------------+------+----+\n",
      "|                   0|103836|   0|\n",
      "|                   1| 67227|   1|\n",
      "|                   2| 45865|   2|\n",
      "|                   3| 48287|   3|\n",
      "|                   4| 55230|   4|\n",
      "|                   5| 83939|   5|\n",
      "|                   6|143213|   6|\n",
      "|                   7|193094|   7|\n",
      "|                   8|190504|   8|\n",
      "|                   9|159967|   9|\n",
      "|                  10|159148|  10|\n",
      "|                  11|165703|  11|\n",
      "|                  12|170452|  12|\n",
      "|                  13|195877|  13|\n",
      "|                  14|230625|  14|\n",
      "|                  15|275466|  15|\n",
      "|                  16|313400|  16|\n",
      "|                  17|336190|  17|\n",
      "|                  18|324679|  18|\n",
      "|                  19|294513|  19|\n",
      "+--------------------+------+----+\n",
      "only showing top 20 rows\n",
      "\n"
     ]
    }
   ],
   "source": [
    "dataPerHour\\\n",
    "    .withColumn(\"hour\", dataPerHour[\"date_format(date, H)\"].cast(IntegerType()))\\\n",
    "    .orderBy(\"hour\")\\\n",
    "    .show()"
   ]
  },
  {
   "cell_type": "code",
   "execution_count": 31,
   "metadata": {
    "collapsed": true
   },
   "outputs": [],
   "source": [
    "dataPerHourFetched = dataPerHour\\\n",
    "    .withColumn(\"hour\", dataPerHour[\"date_format(date, H)\"].cast(IntegerType()))\\\n",
    "    .orderBy(\"hour\")\\\n",
    "    .collect()"
   ]
  },
  {
   "cell_type": "code",
   "execution_count": 61,
   "metadata": {},
   "outputs": [
    {
     "name": "stdout",
     "output_type": "stream",
     "text": [
      "[Row(date_format(date, H)='0', count=103836, hour=0), Row(date_format(date, H)='1', count=67227, hour=1), Row(date_format(date, H)='2', count=45865, hour=2), Row(date_format(date, H)='3', count=48287, hour=3), Row(date_format(date, H)='4', count=55230, hour=4), Row(date_format(date, H)='5', count=83939, hour=5), Row(date_format(date, H)='6', count=143213, hour=6), Row(date_format(date, H)='7', count=193094, hour=7), Row(date_format(date, H)='8', count=190504, hour=8), Row(date_format(date, H)='9', count=159967, hour=9), Row(date_format(date, H)='10', count=159148, hour=10), Row(date_format(date, H)='11', count=165703, hour=11), Row(date_format(date, H)='12', count=170452, hour=12), Row(date_format(date, H)='13', count=195877, hour=13), Row(date_format(date, H)='14', count=230625, hour=14), Row(date_format(date, H)='15', count=275466, hour=15), Row(date_format(date, H)='16', count=313400, hour=16), Row(date_format(date, H)='17', count=336190, hour=17), Row(date_format(date, H)='18', count=324679, hour=18), Row(date_format(date, H)='19', count=294513, hour=19), Row(date_format(date, H)='20', count=284604, hour=20), Row(date_format(date, H)='21', count=281460, hour=21), Row(date_format(date, H)='22', count=241858, hour=22), Row(date_format(date, H)='23', count=169190, hour=23)]\n"
     ]
    }
   ],
   "source": [
    "print(dataPerHourFetched)"
   ]
  },
  {
   "cell_type": "code",
   "execution_count": 62,
   "metadata": {
    "collapsed": true
   },
   "outputs": [],
   "source": [
    "x = []\n",
    "y = []\n",
    "for row in dataPerHourFetched:\n",
    "    x.append(row[\"date_format(date, H)\"])\n",
    "    y.append(row[\"count\"])\n"
   ]
  },
  {
   "cell_type": "code",
   "execution_count": 63,
   "metadata": {
    "collapsed": true
   },
   "outputs": [],
   "source": [
    "%matplotlib inline\n",
    "\n",
    "import matplotlib.pyplot as plt"
   ]
  },
  {
   "cell_type": "code",
   "execution_count": 66,
   "metadata": {},
   "outputs": [
    {
     "data": {
      "image/png": "[encoded data removed]",
      "text/plain": [
       "<matplotlib.figure.Figure at 0x10c7ad6d8>"
      ]
     },
     "metadata": {},
     "output_type": "display_data"
    }
   ],
   "source": [
    "plt.plot(x, y, 'bo')\n",
    "plt.show()"
   ]
  },
  {
   "cell_type": "markdown",
   "metadata": {},
   "source": [
    "## Aufgabe!\n",
    "\n",
    "Wie sieht dieses Diagramm über die Wochentage aus? \n",
    "An welchem Wochentag gibt es am meisten Nachfrage nach einem Uber?\n",
    "\n",
    "Hinweis: Schau dir die Parameter - Liste für die date_format - Funktion am Besten in der Dokumentation für Java 7+ an (http://docs.oracle.com/javase/7/docs/api/java/text/SimpleDateFormat.html), dann hast du die Möglichkeit, den Tag in der Woche als Zahl (1 = Montag, ..., 7 = Sonntag) zu bekommen. Das vereinfacht die Grafik!"
   ]
  },
  {
   "cell_type": "code",
   "execution_count": 70,
   "metadata": {
    "collapsed": true
   },
   "outputs": [],
   "source": [
    "dataPerDoW = data\\\n",
    "    .groupBy(F.date_format(data.date, \"u\"))\\\n",
    "    .count()\\\n",
    "    .orderBy(\"date_format(date, u)\")\\\n",
    "    .cache()"
   ]
  },
  {
   "cell_type": "code",
   "execution_count": 71,
   "metadata": {},
   "outputs": [
    {
     "name": "stdout",
     "output_type": "stream",
     "text": [
      "+--------------------+------+---+\n",
      "|date_format(date, u)| count|DoW|\n",
      "+--------------------+------+---+\n",
      "|                   1|541472|  1|\n",
      "|                   2|663789|  2|\n",
      "|                   3|696488|  3|\n",
      "|                   4|755145|  4|\n",
      "|                   5|741139|  5|\n",
      "|                   6|646114|  6|\n",
      "|                   7|490180|  7|\n",
      "+--------------------+------+---+\n",
      "\n"
     ]
    }
   ],
   "source": [
    "dataPerDoW\\\n",
    "    .withColumn(\"DoW\", dataPerDoW[\"date_format(date, u)\"].cast(IntegerType()))\\\n",
    "    .orderBy(\"DoW\")\\\n",
    "    .show()\n"
   ]
  },
  {
   "cell_type": "code",
   "execution_count": 72,
   "metadata": {
    "collapsed": true
   },
   "outputs": [],
   "source": [
    "rows = dataPerDoW\\\n",
    "    .withColumn(\"DoW\", dataPerDoW[\"date_format(date, u)\"].cast(IntegerType()))\\\n",
    "    .collect()"
   ]
  },
  {
   "cell_type": "code",
   "execution_count": 73,
   "metadata": {
    "collapsed": true
   },
   "outputs": [],
   "source": [
    "x = []\n",
    "y = []\n",
    "for row in rows:\n",
    "    x.append(row[\"date_format(date, u)\"])\n",
    "    y.append(row[\"count\"])\n"
   ]
  },
  {
   "cell_type": "code",
   "execution_count": 76,
   "metadata": {},
   "outputs": [
    {
     "data": {
      "image/png": "[encoded data removed]",
      "text/plain": [
       "<matplotlib.figure.Figure at 0x1f347976ba8>"
      ]
     },
     "metadata": {},
     "output_type": "display_data"
    }
   ],
   "source": [
    "plt.plot(x, y, \"bo\")\n",
    "plt.show()"
   ]
  },
  {
   "cell_type": "code",
   "execution_count": null,
   "metadata": {
    "collapsed": true
   },
   "outputs": [],
   "source": []
  }
 ],
 "metadata": {
  "kernelspec": {
   "display_name": "Python 3",
   "language": "python",
   "name": "python3"
  },
  "language_info": {
   "codemirror_mode": {
    "name": "ipython",
    "version": 3
   },
   "file_extension": ".py",
   "mimetype": "text/x-python",
   "name": "python",
   "nbconvert_exporter": "python",
   "pygments_lexer": "ipython3",
   "version": "3.6.3"
  }
 },
 "nbformat": 4,
 "nbformat_minor": 2
}
