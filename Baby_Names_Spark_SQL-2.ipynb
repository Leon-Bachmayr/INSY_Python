{
  "cells": [
    {
      "cell_type": "markdown",
      "metadata": {
        "id": "view-in-github",
        "colab_type": "text"
      },
      "source": [
        "<a href=\"https://colab.research.google.com/github/Leon-Bachmayr/INSY_Python/blob/main/Baby_Names_Spark_SQL-2.ipynb\" target=\"_parent\"><img src=\"https://colab.research.google.com/assets/colab-badge.svg\" alt=\"Open In Colab\"/></a>"
      ]
    },
    {
      "cell_type": "markdown",
      "metadata": {
        "id": "9QRmp2DoMvt7"
      },
      "source": [
        "## Spark SQL"
      ]
    },
    {
      "cell_type": "code",
      "execution_count": 3,
      "metadata": {
        "collapsed": true,
        "colab": {
          "base_uri": "https://localhost:8080/"
        },
        "id": "t0AGGmT6MvuF",
        "outputId": "1f683b87-d367-402c-9a92-9435a2e5547b"
      },
      "outputs": [
        {
          "output_type": "stream",
          "name": "stdout",
          "text": [
            "Mounted at /content/drive\n",
            "Collecting pyspark\n",
            "  Downloading pyspark-3.2.0.tar.gz (281.3 MB)\n",
            "\u001b[K     |████████████████████████████████| 281.3 MB 37 kB/s \n",
            "\u001b[?25hCollecting py4j==0.10.9.2\n",
            "  Downloading py4j-0.10.9.2-py2.py3-none-any.whl (198 kB)\n",
            "\u001b[K     |████████████████████████████████| 198 kB 72.1 MB/s \n",
            "\u001b[?25hBuilding wheels for collected packages: pyspark\n",
            "  Building wheel for pyspark (setup.py) ... \u001b[?25l\u001b[?25hdone\n",
            "  Created wheel for pyspark: filename=pyspark-3.2.0-py2.py3-none-any.whl size=281805911 sha256=125c74e3651582c1f127b3f1908271097d0144e08bb957299539f3ff22bc4648\n",
            "  Stored in directory: /root/.cache/pip/wheels/0b/de/d2/9be5d59d7331c6c2a7c1b6d1a4f463ce107332b1ecd4e80718\n",
            "Successfully built pyspark\n",
            "Installing collected packages: py4j, pyspark\n",
            "Successfully installed py4j-0.10.9.2 pyspark-3.2.0\n"
          ]
        }
      ],
      "source": [
        "from google.colab import drive\n",
        "drive.mount('/content/drive')\n",
        "\n",
        "!pip install pyspark\n",
        "\n",
        "from pyspark.sql import SparkSession\n",
        "\n",
        "#import initspark"
      ]
    },
    {
      "cell_type": "markdown",
      "metadata": {
        "id": "k2Rvamp8MvuR"
      },
      "source": [
        "Wir erstellen eine neue Spark-SQL - Instanz"
      ]
    },
    {
      "cell_type": "code",
      "execution_count": 4,
      "metadata": {
        "collapsed": true,
        "id": "t6tan3rfMvuc"
      },
      "outputs": [],
      "source": [
        "spark = SparkSession \\\n",
        "    .builder \\\n",
        "    .appName(\"PythonSpark\") \\\n",
        "    .getOrCreate()"
      ]
    },
    {
      "cell_type": "markdown",
      "metadata": {
        "id": "WF23uQsEMvui"
      },
      "source": [
        "Und lesen ein paar Daten ein"
      ]
    },
    {
      "cell_type": "code",
      "execution_count": 6,
      "metadata": {
        "collapsed": true,
        "id": "DeE6vtX5Mvul"
      },
      "outputs": [],
      "source": [
        "data = spark.read.option(\"header\", True).csv(\"/content/drive/MyDrive/data/BabyNames/Baby18802017.csv\").cache()"
      ]
    },
    {
      "cell_type": "code",
      "execution_count": 7,
      "metadata": {
        "id": "D6kwBc1pMvup",
        "outputId": "c33dc046-56a6-43cc-e78b-41b041da104f",
        "colab": {
          "base_uri": "https://localhost:8080/"
        }
      },
      "outputs": [
        {
          "output_type": "stream",
          "name": "stdout",
          "text": [
            "+----------+------+------+----+\n",
            "|      Name|Gender|Number|Year|\n",
            "+----------+------+------+----+\n",
            "|      Dwan|     M|    28|1975|\n",
            "|     Giles|     M|    28|1975|\n",
            "|    Hernan|     M|    28|1975|\n",
            "|      Iran|     M|    28|1975|\n",
            "|    Jabbar|     M|    28|1975|\n",
            "|      Jamy|     M|    28|1975|\n",
            "|    Jerron|     M|    28|1975|\n",
            "|      Jimi|     M|    28|1975|\n",
            "|   Justice|     M|    28|1975|\n",
            "|     Lonzo|     M|    28|1975|\n",
            "|    Malcom|     M|    28|1975|\n",
            "|  Marquise|     M|    28|1975|\n",
            "|Maximilian|     M|    28|1975|\n",
            "|      Mick|     M|    28|1975|\n",
            "|   Roderic|     M|    28|1975|\n",
            "|  Sheridan|     M|    28|1975|\n",
            "|     Sixto|     M|    28|1975|\n",
            "|  Stafford|     M|    28|1975|\n",
            "|   Stephon|     M|    28|1975|\n",
            "|    Sydney|     M|    28|1975|\n",
            "+----------+------+------+----+\n",
            "only showing top 20 rows\n",
            "\n"
          ]
        }
      ],
      "source": [
        "data.show()"
      ]
    },
    {
      "cell_type": "markdown",
      "source": [
        "# Neuer Abschnitt"
      ],
      "metadata": {
        "id": "a6Ay8s-YOaV9"
      }
    },
    {
      "cell_type": "code",
      "execution_count": 8,
      "metadata": {
        "colab": {
          "base_uri": "https://localhost:8080/"
        },
        "id": "WNnc0BEXMvut",
        "outputId": "5f03269c-17ce-483f-b74c-fe524188a572"
      },
      "outputs": [
        {
          "output_type": "stream",
          "name": "stdout",
          "text": [
            "+-----+------+------+----+\n",
            "| Name|Gender|Number|Year|\n",
            "+-----+------+------+----+\n",
            "|Helen|     F|   636|1880|\n",
            "|Helen|     M|     5|1966|\n",
            "|Helen|     F|   838|1882|\n",
            "|Helen|     F|  5277|1956|\n",
            "|Helen|     F|  2155|1967|\n",
            "|Helen|     M|     6|1975|\n",
            "|Helen|     F|   943|1976|\n",
            "|Helen|     F| 20985|1929|\n",
            "|Helen|     F|  9799|1943|\n",
            "|Helen|     M|    77|1929|\n",
            "|Helen|     F|   612|1881|\n",
            "|Helen|     F|   844|1983|\n",
            "|Helen|     M|    38|1943|\n",
            "|Helen|     F|  8694|1944|\n",
            "|Helen|     M|     7|1881|\n",
            "|Helen|     F|   862|1883|\n",
            "|Helen|     M|     5|1883|\n",
            "|Helen|     F|   986|1884|\n",
            "|Helen|     F|  1134|1885|\n",
            "|Helen|     M|     8|1967|\n",
            "+-----+------+------+----+\n",
            "only showing top 20 rows\n",
            "\n"
          ]
        }
      ],
      "source": [
        "data.where(data.Name == \"Helen\").show()"
      ]
    },
    {
      "cell_type": "code",
      "execution_count": 9,
      "metadata": {
        "colab": {
          "base_uri": "https://localhost:8080/"
        },
        "id": "_ufwtzi4Mvuz",
        "outputId": "5735cdc3-101f-4666-8966-3998dca34126"
      },
      "outputs": [
        {
          "output_type": "stream",
          "name": "stdout",
          "text": [
            "root\n",
            " |-- Name: string (nullable = true)\n",
            " |-- Gender: string (nullable = true)\n",
            " |-- Number: string (nullable = true)\n",
            " |-- Year: string (nullable = true)\n",
            "\n"
          ]
        }
      ],
      "source": [
        "data.printSchema()"
      ]
    },
    {
      "cell_type": "code",
      "execution_count": 10,
      "metadata": {
        "id": "Ii7uGF9dMvu7",
        "outputId": "a20f57f6-8b22-4da9-c267-12c8c22349ae",
        "colab": {
          "base_uri": "https://localhost:8080/",
          "height": 36
        }
      },
      "outputs": [
        {
          "output_type": "execute_result",
          "data": {
            "application/vnd.google.colaboratory.intrinsic+json": {
              "type": "string"
            },
            "text/plain": [
              "'634559'"
            ]
          },
          "metadata": {},
          "execution_count": 10
        }
      ],
      "source": [
        "\"634\" + \"559\""
      ]
    },
    {
      "cell_type": "markdown",
      "metadata": {
        "id": "v0CR8747MvvA"
      },
      "source": [
        "### Typisiertes Schema!"
      ]
    },
    {
      "cell_type": "code",
      "execution_count": 12,
      "metadata": {
        "collapsed": true,
        "id": "NLzv2bK_Mvvc"
      },
      "outputs": [],
      "source": [
        "from pyspark.sql.types import *\n",
        "\n",
        "schema = StructType([\n",
        "    StructField(\"name\", StringType(), True),\n",
        "    StructField(\"gender\", StringType(), True),\n",
        "    StructField(\"count\", IntegerType(), True),\n",
        "    StructField(\"year\", IntegerType(), True)\n",
        "])\n",
        "\n",
        "\n",
        "dataTyped = spark.read\\\n",
        "    .option(\"header\", True)\\\n",
        "    .csv(\"/content/drive/MyDrive/data/BabyNames/Baby18802017.csv\", schema = schema)\\\n",
        "    .cache()"
      ]
    },
    {
      "cell_type": "code",
      "execution_count": 13,
      "metadata": {
        "id": "Koia6SKLMvvh",
        "outputId": "f66262dd-7b34-4045-b75a-c2f160a6ff2b",
        "colab": {
          "base_uri": "https://localhost:8080/"
        }
      },
      "outputs": [
        {
          "output_type": "stream",
          "name": "stdout",
          "text": [
            "root\n",
            " |-- name: string (nullable = true)\n",
            " |-- gender: string (nullable = true)\n",
            " |-- count: integer (nullable = true)\n",
            " |-- year: integer (nullable = true)\n",
            "\n"
          ]
        }
      ],
      "source": [
        "dataTyped.printSchema()"
      ]
    },
    {
      "cell_type": "code",
      "execution_count": 14,
      "metadata": {
        "colab": {
          "base_uri": "https://localhost:8080/"
        },
        "id": "0Lv-DOqtMvvl",
        "outputId": "b97a0e0c-519b-48c8-e887-ea547934a48a"
      },
      "outputs": [
        {
          "output_type": "stream",
          "name": "stdout",
          "text": [
            "+----------+------+-----+----+\n",
            "|      name|gender|count|year|\n",
            "+----------+------+-----+----+\n",
            "|      Dwan|     M|   28|1975|\n",
            "|     Giles|     M|   28|1975|\n",
            "|    Hernan|     M|   28|1975|\n",
            "|      Iran|     M|   28|1975|\n",
            "|    Jabbar|     M|   28|1975|\n",
            "|      Jamy|     M|   28|1975|\n",
            "|    Jerron|     M|   28|1975|\n",
            "|      Jimi|     M|   28|1975|\n",
            "|   Justice|     M|   28|1975|\n",
            "|     Lonzo|     M|   28|1975|\n",
            "|    Malcom|     M|   28|1975|\n",
            "|  Marquise|     M|   28|1975|\n",
            "|Maximilian|     M|   28|1975|\n",
            "|      Mick|     M|   28|1975|\n",
            "|   Roderic|     M|   28|1975|\n",
            "|  Sheridan|     M|   28|1975|\n",
            "|     Sixto|     M|   28|1975|\n",
            "|  Stafford|     M|   28|1975|\n",
            "|   Stephon|     M|   28|1975|\n",
            "|    Sydney|     M|   28|1975|\n",
            "+----------+------+-----+----+\n",
            "only showing top 20 rows\n",
            "\n"
          ]
        }
      ],
      "source": [
        "dataTyped.show()"
      ]
    },
    {
      "cell_type": "code",
      "execution_count": 15,
      "metadata": {
        "colab": {
          "base_uri": "https://localhost:8080/"
        },
        "id": "4O4-q0VYMvvn",
        "outputId": "093f7e47-f4df-4e12-8a25-aa39d7376c50"
      },
      "outputs": [
        {
          "output_type": "stream",
          "name": "stdout",
          "text": [
            "+-----+------+-----+----+\n",
            "| name|gender|count|year|\n",
            "+-----+------+-----+----+\n",
            "|Helen|     F|  636|1880|\n",
            "|Helen|     M|    5|1966|\n",
            "|Helen|     F|  838|1882|\n",
            "|Helen|     F| 5277|1956|\n",
            "|Helen|     F| 2155|1967|\n",
            "|Helen|     M|    6|1975|\n",
            "|Helen|     F|  943|1976|\n",
            "|Helen|     F|20985|1929|\n",
            "|Helen|     F| 9799|1943|\n",
            "|Helen|     M|   77|1929|\n",
            "|Helen|     F|  612|1881|\n",
            "|Helen|     F|  844|1983|\n",
            "|Helen|     M|   38|1943|\n",
            "|Helen|     F| 8694|1944|\n",
            "|Helen|     M|    7|1881|\n",
            "|Helen|     F|  862|1883|\n",
            "|Helen|     M|    5|1883|\n",
            "|Helen|     F|  986|1884|\n",
            "|Helen|     F| 1134|1885|\n",
            "|Helen|     M|    8|1967|\n",
            "+-----+------+-----+----+\n",
            "only showing top 20 rows\n",
            "\n"
          ]
        }
      ],
      "source": [
        "dataTyped.where(dataTyped.name == \"Helen\").show()"
      ]
    },
    {
      "cell_type": "code",
      "execution_count": 16,
      "metadata": {
        "colab": {
          "base_uri": "https://localhost:8080/"
        },
        "id": "nrAcxafiMvvr",
        "outputId": "cf239d2b-1f1e-46f3-bf57-0a65525b78d7"
      },
      "outputs": [
        {
          "output_type": "stream",
          "name": "stdout",
          "text": [
            "+----------+\n",
            "|sum(count)|\n",
            "+----------+\n",
            "|   1022157|\n",
            "+----------+\n",
            "\n"
          ]
        }
      ],
      "source": [
        "dataTyped\\\n",
        "    .where(dataTyped.name == \"Helen\")\\\n",
        "    .agg({\"count\": \"sum\"})\\\n",
        "    .show()"
      ]
    },
    {
      "cell_type": "code",
      "execution_count": 17,
      "metadata": {
        "scrolled": true,
        "colab": {
          "base_uri": "https://localhost:8080/"
        },
        "id": "AFpGnJgFMvvv",
        "outputId": "a7adc70f-6c1c-4005-c806-03b86d8d0729"
      },
      "outputs": [
        {
          "output_type": "stream",
          "name": "stdout",
          "text": [
            "[Row(sum(count)=1022157)]\n",
            "Row(sum(count)=1022157)\n",
            "1022157\n",
            "1022157\n"
          ]
        }
      ],
      "source": [
        "sumHelen = dataTyped\\\n",
        "    .where(dataTyped.name == \"Helen\")\\\n",
        "    .agg({\"count\": \"sum\"})\\\n",
        "    .collect()\n",
        "    \n",
        "print(sumHelen)\n",
        "print(sumHelen[0])\n",
        "print(sumHelen[0][0])\n",
        "print(sumHelen[0][\"sum(count)\"])"
      ]
    },
    {
      "cell_type": "markdown",
      "source": [
        "# Neuer Abschnitt"
      ],
      "metadata": {
        "id": "-PWrIZTHevFX"
      }
    },
    {
      "cell_type": "code",
      "execution_count": null,
      "metadata": {
        "collapsed": true,
        "id": "vLIkefZjMvv0"
      },
      "outputs": [],
      "source": [
        ""
      ]
    }
  ],
  "metadata": {
    "kernelspec": {
      "display_name": "Python 3",
      "language": "python",
      "name": "python3"
    },
    "language_info": {
      "codemirror_mode": {
        "name": "ipython",
        "version": 3
      },
      "file_extension": ".py",
      "mimetype": "text/x-python",
      "name": "python",
      "nbconvert_exporter": "python",
      "pygments_lexer": "ipython3",
      "version": "3.6.3"
    },
    "colab": {
      "name": "Baby_Names_Spark_SQL_2.ipynb",
      "provenance": [],
      "collapsed_sections": [],
      "include_colab_link": true
    }
  },
  "nbformat": 4,
  "nbformat_minor": 0
}