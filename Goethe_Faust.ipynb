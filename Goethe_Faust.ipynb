{
  "cells": [
    {
      "cell_type": "markdown",
      "metadata": {
        "id": "view-in-github",
        "colab_type": "text"
      },
      "source": [
        "<a href=\"https://colab.research.google.com/github/Leon-Bachmayr/INSY_Python/blob/main/Goethe_Faust.ipynb\" target=\"_parent\"><img src=\"https://colab.research.google.com/assets/colab-badge.svg\" alt=\"Open In Colab\"/></a>"
      ]
    },
    {
      "cell_type": "code",
      "source": [
        "!pip install pyspark"
      ],
      "metadata": {
        "colab": {
          "base_uri": "https://localhost:8080/"
        },
        "id": "NVU3GG8fYOia",
        "outputId": "7965673a-4ee6-4105-ab7b-087254978a9d"
      },
      "execution_count": 1,
      "outputs": [
        {
          "output_type": "stream",
          "name": "stdout",
          "text": [
            "Collecting pyspark\n",
            "  Downloading pyspark-3.2.0.tar.gz (281.3 MB)\n",
            "\u001b[K     |████████████████████████████████| 281.3 MB 34 kB/s \n",
            "\u001b[?25hCollecting py4j==0.10.9.2\n",
            "  Downloading py4j-0.10.9.2-py2.py3-none-any.whl (198 kB)\n",
            "\u001b[K     |████████████████████████████████| 198 kB 52.8 MB/s \n",
            "\u001b[?25hBuilding wheels for collected packages: pyspark\n",
            "  Building wheel for pyspark (setup.py) ... \u001b[?25l\u001b[?25hdone\n",
            "  Created wheel for pyspark: filename=pyspark-3.2.0-py2.py3-none-any.whl size=281805911 sha256=076975f686e607c279b904e856de4a778e1435d8ba3b72a04d40add4454cbb6d\n",
            "  Stored in directory: /root/.cache/pip/wheels/0b/de/d2/9be5d59d7331c6c2a7c1b6d1a4f463ce107332b1ecd4e80718\n",
            "Successfully built pyspark\n",
            "Installing collected packages: py4j, pyspark\n",
            "Successfully installed py4j-0.10.9.2 pyspark-3.2.0\n"
          ]
        }
      ]
    },
    {
      "cell_type": "code",
      "source": [
        "from google.colab import drive\n",
        "drive.mount('/content/drive')"
      ],
      "metadata": {
        "colab": {
          "base_uri": "https://localhost:8080/"
        },
        "id": "Q4ieAD1MYQLz",
        "outputId": "f7d499d1-6c3f-4468-8441-738dba5dd899"
      },
      "execution_count": 2,
      "outputs": [
        {
          "output_type": "stream",
          "name": "stdout",
          "text": [
            "Mounted at /content/drive\n"
          ]
        }
      ]
    },
    {
      "cell_type": "code",
      "execution_count": 3,
      "metadata": {
        "collapsed": true,
        "id": "X3xEjL0ZYJkG"
      },
      "outputs": [],
      "source": [
        "from pyspark import SparkContext, SparkConf\n",
        "#import initspark"
      ]
    },
    {
      "cell_type": "code",
      "execution_count": 4,
      "metadata": {
        "collapsed": true,
        "id": "2f61Ff3dYJkL"
      },
      "outputs": [],
      "source": [
        "conf = SparkConf().setAppName(\"GoetheFaust\").setMaster(\"local\")\n",
        "sc = SparkContext(conf=conf)"
      ]
    },
    {
      "cell_type": "code",
      "execution_count": 11,
      "metadata": {
        "collapsed": true,
        "id": "hHZD7VqOYJkN"
      },
      "outputs": [],
      "source": [
        "rdd = sc.textFile(\"/content/drive/MyDrive/data/goethe/faust.txt\").cache()"
      ]
    },
    {
      "cell_type": "markdown",
      "metadata": {
        "id": "sIfWfgEzYJkO"
      },
      "source": [
        "### Aufgabe: Goethe Faust\n",
        "\n",
        "Welches Wort kommt am Häufigsten vor?\n",
        "\n",
        "*Hinweis:* Wenn du eine Zeile in einzelne Worte zerlegst, reicht ein .split(\" \") aus. Wörter mit einem Satzzeichen dahinter zählen als separates Wort. Du brauchst Satzzeichen also nicht zu entfernen.\n",
        "\n",
        "**Beispiel:** `\"Hallo Hallo, Hallo\"`. Hier kommt...\n",
        "\n",
        "- das Wort `\"Hallo\"` 2x vor, und\n",
        "- das Wort `\"Hallo,\"` 1x vor.\n",
        "\n",
        "*Hinweis 2:* Die ersten paar Zeilen der Textdatei (ca. 50) enthalten einen Copyright - Hinweis. Du brauchst diese nicht zu entfernen, wir tun so, als würde er mit zum Buch gehören.\n",
        "\n",
        "*Hinweis 3:* Groß- und Kleinschreibung zählt auch als unterschiedliches Wort. Beispiel: `\"Hallo hallo Hallo\"`, hier kommt...\n",
        "\n",
        "- das Wort `\"Hallo\"` 2x vor, und\n",
        "- das Wort `\"hallo\"` 1x vor.\n",
        "\n",
        "#### Aufgabe\n",
        "\n",
        "Welches Wort kommt am Häufigsten vor?"
      ]
    },
    {
      "cell_type": "code",
      "execution_count": 12,
      "metadata": {
        "colab": {
          "base_uri": "https://localhost:8080/"
        },
        "id": "iTegKerQYJkR",
        "outputId": "7f1a6930-fcaa-4675-a829-59d140d0b554"
      },
      "outputs": [
        {
          "output_type": "execute_result",
          "data": {
            "text/plain": [
              "['  Faust: Der Tragödie erster Teil',\n",
              " '',\n",
              " '  Johann Wolfgang von Goethe',\n",
              " '',\n",
              " '',\n",
              " '  Zueignung.',\n",
              " '',\n",
              " '  Ihr naht euch wieder, schwankende Gestalten,',\n",
              " '  Die früh sich einst dem trüben Blick gezeigt.',\n",
              " '  Versuch ich wohl, euch diesmal festzuhalten?']"
            ]
          },
          "metadata": {},
          "execution_count": 12
        }
      ],
      "source": [
        "rdd.take(10)"
      ]
    },
    {
      "cell_type": "code",
      "execution_count": 13,
      "metadata": {
        "colab": {
          "base_uri": "https://localhost:8080/"
        },
        "id": "voa6yO9RYJkV",
        "outputId": "067cf29c-8bcb-4e06-db1c-0e8fd10e4d7e"
      },
      "outputs": [
        {
          "output_type": "execute_result",
          "data": {
            "text/plain": [
              "['', '', 'Faust:', 'Der', 'Tragödie']"
            ]
          },
          "metadata": {},
          "execution_count": 13
        }
      ],
      "source": [
        "rdd\\\n",
        "    .flatMap(lambda x: x.split(\" \"))\\\n",
        "    .take(5)"
      ]
    },
    {
      "cell_type": "code",
      "execution_count": 14,
      "metadata": {
        "colab": {
          "base_uri": "https://localhost:8080/"
        },
        "id": "JY-d706zYJkY",
        "outputId": "d2004e30-dc6f-4373-dea7-8955e3e818e2"
      },
      "outputs": [
        {
          "output_type": "execute_result",
          "data": {
            "text/plain": [
              "[('', 1), ('', 1), ('Faust:', 1), ('Der', 1), ('Tragödie', 1)]"
            ]
          },
          "metadata": {},
          "execution_count": 14
        }
      ],
      "source": [
        "rdd\\\n",
        "    .flatMap(lambda x: x.split(\" \"))\\\n",
        "    .map(lambda x: (x, 1))\\\n",
        "    .take(5)"
      ]
    },
    {
      "cell_type": "code",
      "execution_count": 15,
      "metadata": {
        "colab": {
          "base_uri": "https://localhost:8080/"
        },
        "id": "J-gNvlkHYJkZ",
        "outputId": "a1866fc5-c682-4e8a-a216-95920a4802b0"
      },
      "outputs": [
        {
          "output_type": "execute_result",
          "data": {
            "text/plain": [
              "[('', 13356), ('Faust:', 1), ('Der', 131), ('Tragödie', 2), ('erster', 3)]"
            ]
          },
          "metadata": {},
          "execution_count": 15
        }
      ],
      "source": [
        "rdd\\\n",
        "    .flatMap(lambda x: x.split(\" \"))\\\n",
        "    .map(lambda x: (x, 1))\\\n",
        "    .reduceByKey(lambda x, y: x + y)\\\n",
        "    .take(5)"
      ]
    },
    {
      "cell_type": "code",
      "execution_count": 16,
      "metadata": {
        "colab": {
          "base_uri": "https://localhost:8080/"
        },
        "id": "cRRrs7sqYJkc",
        "outputId": "a451efa1-a780-4fe1-94fb-2475d8bdad66"
      },
      "outputs": [
        {
          "output_type": "execute_result",
          "data": {
            "text/plain": [
              "[(13356, ''), (1, 'Faust:'), (131, 'Der'), (2, 'Tragödie'), (3, 'erster')]"
            ]
          },
          "metadata": {},
          "execution_count": 16
        }
      ],
      "source": [
        "rdd\\\n",
        "    .flatMap(lambda x: x.split(\" \"))\\\n",
        "    .map(lambda x: (x, 1))\\\n",
        "    .reduceByKey(lambda x, y: x + y)\\\n",
        "    .map(lambda x: (x[1], x[0]))\\\n",
        "    .take(5)"
      ]
    },
    {
      "cell_type": "code",
      "execution_count": 17,
      "metadata": {
        "colab": {
          "base_uri": "https://localhost:8080/"
        },
        "id": "mbFRzw_LYJkd",
        "outputId": "c7a91fdd-98d9-4db7-c4c6-f4a48553ac9e"
      },
      "outputs": [
        {
          "output_type": "execute_result",
          "data": {
            "text/plain": [
              "[(509, 'und'), (462, 'die'), (439, 'der'), (435, 'ich'), (400, 'Und')]"
            ]
          },
          "metadata": {},
          "execution_count": 17
        }
      ],
      "source": [
        "rdd\\\n",
        "    .flatMap(lambda x: x.split(\" \"))\\\n",
        "    .map(lambda x: (x, 1))\\\n",
        "    .reduceByKey(lambda x, y: x + y)\\\n",
        "    .map(lambda x: (x[1], x[0]))\\\n",
        "    .sortByKey(ascending = False)\\\n",
        "    .filter(lambda x: x[1] != \"\")\\\n",
        "    .take(5)"
      ]
    },
    {
      "cell_type": "code",
      "execution_count": 17,
      "metadata": {
        "collapsed": true,
        "id": "Qm51Tl9JYJkf"
      },
      "outputs": [],
      "source": [
        ""
      ]
    }
  ],
  "metadata": {
    "kernelspec": {
      "display_name": "Python 3",
      "language": "python",
      "name": "python3"
    },
    "language_info": {
      "codemirror_mode": {
        "name": "ipython",
        "version": 3
      },
      "file_extension": ".py",
      "mimetype": "text/x-python",
      "name": "python",
      "nbconvert_exporter": "python",
      "pygments_lexer": "ipython3",
      "version": "3.6.3"
    },
    "colab": {
      "name": "Goethe Faust.ipynb",
      "provenance": [],
      "collapsed_sections": [],
      "include_colab_link": true
    }
  },
  "nbformat": 4,
  "nbformat_minor": 0
}