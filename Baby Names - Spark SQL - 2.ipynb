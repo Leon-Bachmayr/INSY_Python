{
 "cells": [
  {
   "cell_type": "markdown",
   "metadata": {},
   "source": [
    "## Spark SQL"
   ]
  },
  {
   "cell_type": "code",
   "execution_count": 1,
   "metadata": {
    "collapsed": true
   },
   "outputs": [],
   "source": [
    "from pyspark.sql import SparkSession\n",
    "\n",
    "import initspark"
   ]
  },
  {
   "cell_type": "markdown",
   "metadata": {},
   "source": [
    "Wir erstellen eine neue Spark-SQL - Instanz"
   ]
  },
  {
   "cell_type": "code",
   "execution_count": 2,
   "metadata": {
    "collapsed": true
   },
   "outputs": [],
   "source": [
    "spark = SparkSession \\\n",
    "    .builder \\\n",
    "    .appName(\"PythonSpark\") \\\n",
    "    .getOrCreate()"
   ]
  },
  {
   "cell_type": "markdown",
   "metadata": {},
   "source": [
    "Und lesen ein paar Daten ein"
   ]
  },
  {
   "cell_type": "code",
   "execution_count": 3,
   "metadata": {
    "collapsed": true
   },
   "outputs": [],
   "source": [
    "data = spark.read.option(\"header\", True).csv(\"data/BabyNames/Baby18802017.csv\").cache()"
   ]
  },
  {
   "cell_type": "code",
   "execution_count": 4,
   "metadata": {},
   "outputs": [
    {
     "name": "stdout",
     "output_type": "stream",
     "text": [
      "+----------+------+------+----+\n",
      "|      Name|Gender|Number|Year|\n",
      "+----------+------+------+----+\n",
      "|      Dwan|     M|    28|1975|\n",
      "|     Giles|     M|    28|1975|\n",
      "|    Hernan|     M|    28|1975|\n",
      "|      Iran|     M|    28|1975|\n",
      "|    Jabbar|     M|    28|1975|\n",
      "|      Jamy|     M|    28|1975|\n",
      "|    Jerron|     M|    28|1975|\n",
      "|      Jimi|     M|    28|1975|\n",
      "|   Justice|     M|    28|1975|\n",
      "|     Lonzo|     M|    28|1975|\n",
      "|    Malcom|     M|    28|1975|\n",
      "|  Marquise|     M|    28|1975|\n",
      "|Maximilian|     M|    28|1975|\n",
      "|      Mick|     M|    28|1975|\n",
      "|   Roderic|     M|    28|1975|\n",
      "|  Sheridan|     M|    28|1975|\n",
      "|     Sixto|     M|    28|1975|\n",
      "|  Stafford|     M|    28|1975|\n",
      "|   Stephon|     M|    28|1975|\n",
      "|    Sydney|     M|    28|1975|\n",
      "+----------+------+------+----+\n",
      "only showing top 20 rows\n",
      "\n"
     ]
    }
   ],
   "source": [
    "data.show()"
   ]
  },
  {
   "cell_type": "code",
   "execution_count": 5,
   "metadata": {},
   "outputs": [
    {
     "name": "stdout",
     "output_type": "stream",
     "text": [
      "+-----+------+------+----+\n",
      "| Name|Gender|Number|Year|\n",
      "+-----+------+------+----+\n",
      "|Helen|     F|   636|1880|\n",
      "|Helen|     M|     5|1966|\n",
      "|Helen|     F|   838|1882|\n",
      "|Helen|     F|  5277|1956|\n",
      "|Helen|     F|  2155|1967|\n",
      "|Helen|     M|     6|1975|\n",
      "|Helen|     F|   943|1976|\n",
      "|Helen|     F| 20985|1929|\n",
      "|Helen|     F|  9799|1943|\n",
      "|Helen|     M|    77|1929|\n",
      "|Helen|     F|   612|1881|\n",
      "|Helen|     F|   844|1983|\n",
      "|Helen|     M|    38|1943|\n",
      "|Helen|     F|  8694|1944|\n",
      "|Helen|     M|     7|1881|\n",
      "|Helen|     F|   862|1883|\n",
      "|Helen|     M|     5|1883|\n",
      "|Helen|     F|   986|1884|\n",
      "|Helen|     F|  1134|1885|\n",
      "|Helen|     M|     8|1967|\n",
      "+-----+------+------+----+\n",
      "only showing top 20 rows\n",
      "\n"
     ]
    }
   ],
   "source": [
    "data.where(data.Name == \"Helen\").show()"
   ]
  },
  {
   "cell_type": "code",
   "execution_count": 6,
   "metadata": {},
   "outputs": [
    {
     "name": "stdout",
     "output_type": "stream",
     "text": [
      "root\n",
      " |-- Name: string (nullable = true)\n",
      " |-- Gender: string (nullable = true)\n",
      " |-- Number: string (nullable = true)\n",
      " |-- Year: string (nullable = true)\n",
      "\n"
     ]
    }
   ],
   "source": [
    "data.printSchema()"
   ]
  },
  {
   "cell_type": "code",
   "execution_count": 7,
   "metadata": {},
   "outputs": [
    {
     "data": {
      "text/plain": [
       "'634559'"
      ]
     },
     "execution_count": 7,
     "metadata": {},
     "output_type": "execute_result"
    }
   ],
   "source": [
    "\"634\" + \"559\""
   ]
  },
  {
   "cell_type": "markdown",
   "metadata": {},
   "source": [
    "### Typisiertes Schema!"
   ]
  },
  {
   "cell_type": "code",
   "execution_count": 12,
   "metadata": {
    "collapsed": true
   },
   "outputs": [],
   "source": [
    "from pyspark.sql.types import *\n",
    "\n",
    "schema = StructType([\n",
    "    StructField(\"name\", StringType(), True),\n",
    "    StructField(\"gender\", StringType(), True),\n",
    "    StructField(\"count\", IntegerType(), True),\n",
    "    StructField(\"year\", IntegerType(), True)\n",
    "])\n",
    "\n",
    "\n",
    "dataTyped = spark.read\\\n",
    "    .option(\"header\", True)\\\n",
    "    .csv(\"data/BabyNames/Baby18802017.csv\", schema = schema)\\\n",
    "    .cache()"
   ]
  },
  {
   "cell_type": "code",
   "execution_count": 13,
   "metadata": {},
   "outputs": [
    {
     "name": "stdout",
     "output_type": "stream",
     "text": [
      "root\n",
      " |-- name: string (nullable = true)\n",
      " |-- gender: string (nullable = true)\n",
      " |-- count: integer (nullable = true)\n",
      " |-- year: integer (nullable = true)\n",
      "\n"
     ]
    }
   ],
   "source": [
    "dataTyped.printSchema()"
   ]
  },
  {
   "cell_type": "code",
   "execution_count": 14,
   "metadata": {},
   "outputs": [
    {
     "name": "stdout",
     "output_type": "stream",
     "text": [
      "+----------+------+-----+----+\n",
      "|      name|gender|count|year|\n",
      "+----------+------+-----+----+\n",
      "|      Dwan|     M|   28|1975|\n",
      "|     Giles|     M|   28|1975|\n",
      "|    Hernan|     M|   28|1975|\n",
      "|      Iran|     M|   28|1975|\n",
      "|    Jabbar|     M|   28|1975|\n",
      "|      Jamy|     M|   28|1975|\n",
      "|    Jerron|     M|   28|1975|\n",
      "|      Jimi|     M|   28|1975|\n",
      "|   Justice|     M|   28|1975|\n",
      "|     Lonzo|     M|   28|1975|\n",
      "|    Malcom|     M|   28|1975|\n",
      "|  Marquise|     M|   28|1975|\n",
      "|Maximilian|     M|   28|1975|\n",
      "|      Mick|     M|   28|1975|\n",
      "|   Roderic|     M|   28|1975|\n",
      "|  Sheridan|     M|   28|1975|\n",
      "|     Sixto|     M|   28|1975|\n",
      "|  Stafford|     M|   28|1975|\n",
      "|   Stephon|     M|   28|1975|\n",
      "|    Sydney|     M|   28|1975|\n",
      "+----------+------+-----+----+\n",
      "only showing top 20 rows\n",
      "\n"
     ]
    }
   ],
   "source": [
    "dataTyped.show()"
   ]
  },
  {
   "cell_type": "code",
   "execution_count": 15,
   "metadata": {},
   "outputs": [
    {
     "name": "stdout",
     "output_type": "stream",
     "text": [
      "+-----+------+-----+----+\n",
      "| name|gender|count|year|\n",
      "+-----+------+-----+----+\n",
      "|Helen|     F|  636|1880|\n",
      "|Helen|     M|    5|1966|\n",
      "|Helen|     F|  838|1882|\n",
      "|Helen|     F| 5277|1956|\n",
      "|Helen|     F| 2155|1967|\n",
      "|Helen|     M|    6|1975|\n",
      "|Helen|     F|  943|1976|\n",
      "|Helen|     F|20985|1929|\n",
      "|Helen|     F| 9799|1943|\n",
      "|Helen|     M|   77|1929|\n",
      "|Helen|     F|  612|1881|\n",
      "|Helen|     F|  844|1983|\n",
      "|Helen|     M|   38|1943|\n",
      "|Helen|     F| 8694|1944|\n",
      "|Helen|     M|    7|1881|\n",
      "|Helen|     F|  862|1883|\n",
      "|Helen|     M|    5|1883|\n",
      "|Helen|     F|  986|1884|\n",
      "|Helen|     F| 1134|1885|\n",
      "|Helen|     M|    8|1967|\n",
      "+-----+------+-----+----+\n",
      "only showing top 20 rows\n",
      "\n"
     ]
    }
   ],
   "source": [
    "dataTyped.where(dataTyped.name == \"Helen\").show()"
   ]
  },
  {
   "cell_type": "code",
   "execution_count": 16,
   "metadata": {},
   "outputs": [
    {
     "name": "stdout",
     "output_type": "stream",
     "text": [
      "+----------+\n",
      "|sum(count)|\n",
      "+----------+\n",
      "|   1022157|\n",
      "+----------+\n",
      "\n"
     ]
    }
   ],
   "source": [
    "dataTyped\\\n",
    "    .where(dataTyped.name == \"Helen\")\\\n",
    "    .agg({\"count\": \"sum\"})\\\n",
    "    .show()"
   ]
  },
  {
   "cell_type": "code",
   "execution_count": 17,
   "metadata": {
    "scrolled": true
   },
   "outputs": [
    {
     "name": "stdout",
     "output_type": "stream",
     "text": [
      "[Row(sum(count)=1022157)]\n",
      "Row(sum(count)=1022157)\n",
      "1022157\n",
      "1022157\n"
     ]
    }
   ],
   "source": [
    "sumHelen = dataTyped\\\n",
    "    .where(dataTyped.name == \"Helen\")\\\n",
    "    .agg({\"count\": \"sum\"})\\\n",
    "    .collect()\n",
    "    \n",
    "print(sumHelen)\n",
    "print(sumHelen[0])\n",
    "print(sumHelen[0][0])\n",
    "print(sumHelen[0][\"sum(count)\"])"
   ]
  },
  {
   "cell_type": "code",
   "execution_count": null,
   "metadata": {
    "collapsed": true
   },
   "outputs": [],
   "source": []
  }
 ],
 "metadata": {
  "kernelspec": {
   "display_name": "Python 3",
   "language": "python",
   "name": "python3"
  },
  "language_info": {
   "codemirror_mode": {
    "name": "ipython",
    "version": 3
   },
   "file_extension": ".py",
   "mimetype": "text/x-python",
   "name": "python",
   "nbconvert_exporter": "python",
   "pygments_lexer": "ipython3",
   "version": "3.6.3"
  }
 },
 "nbformat": 4,
 "nbformat_minor": 2
}
