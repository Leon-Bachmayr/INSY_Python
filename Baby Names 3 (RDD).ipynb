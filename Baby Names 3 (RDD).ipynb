{
 "cells": [
  {
   "cell_type": "code",
   "execution_count": 5,
   "metadata": {
    "collapsed": true
   },
   "outputs": [],
   "source": [
    "from pyspark import SparkContext, SparkConf\n",
    "import initspark"
   ]
  },
  {
   "cell_type": "code",
   "execution_count": 9,
   "metadata": {},
   "outputs": [
    {
     "ename": "ValueError",
     "evalue": "Cannot run multiple SparkContexts at once; existing SparkContext(app=BabyNames3, master=local) created by __init__ at <ipython-input-3-05fa0f37c645>:2 ",
     "output_type": "error",
     "traceback": [
      "\u001b[1;31m---------------------------------------------------------------------------\u001b[0m",
      "\u001b[1;31mValueError\u001b[0m                                Traceback (most recent call last)",
      "\u001b[1;32m<ipython-input-9-05fa0f37c645>\u001b[0m in \u001b[0;36m<module>\u001b[1;34m()\u001b[0m\n\u001b[0;32m      1\u001b[0m \u001b[0ml_conf\u001b[0m \u001b[1;33m=\u001b[0m \u001b[0mSparkConf\u001b[0m\u001b[1;33m(\u001b[0m\u001b[1;33m)\u001b[0m\u001b[1;33m.\u001b[0m\u001b[0msetAppName\u001b[0m\u001b[1;33m(\u001b[0m\u001b[1;34m\"BabyNames3\"\u001b[0m\u001b[1;33m)\u001b[0m\u001b[1;33m.\u001b[0m\u001b[0msetMaster\u001b[0m\u001b[1;33m(\u001b[0m\u001b[1;34m\"local\"\u001b[0m\u001b[1;33m)\u001b[0m\u001b[1;33m\u001b[0m\u001b[0m\n\u001b[1;32m----> 2\u001b[1;33m \u001b[0msc\u001b[0m \u001b[1;33m=\u001b[0m \u001b[0mSparkContext\u001b[0m\u001b[1;33m(\u001b[0m\u001b[0mconf\u001b[0m\u001b[1;33m=\u001b[0m\u001b[0ml_conf\u001b[0m\u001b[1;33m)\u001b[0m\u001b[1;33m\u001b[0m\u001b[0m\n\u001b[0m",
      "\u001b[1;32m~\\Sync\\HTL\\HTL_5_Jahr\\Insy\\Semester_I\\Python\\Beispiele\\pyspark\\context.py\u001b[0m in \u001b[0;36m__init__\u001b[1;34m(self, master, appName, sparkHome, pyFiles, environment, batchSize, serializer, conf, gateway, jsc, profiler_cls)\u001b[0m\n\u001b[0;32m    113\u001b[0m         \"\"\"\n\u001b[0;32m    114\u001b[0m         \u001b[0mself\u001b[0m\u001b[1;33m.\u001b[0m\u001b[0m_callsite\u001b[0m \u001b[1;33m=\u001b[0m \u001b[0mfirst_spark_call\u001b[0m\u001b[1;33m(\u001b[0m\u001b[1;33m)\u001b[0m \u001b[1;32mor\u001b[0m \u001b[0mCallSite\u001b[0m\u001b[1;33m(\u001b[0m\u001b[1;32mNone\u001b[0m\u001b[1;33m,\u001b[0m \u001b[1;32mNone\u001b[0m\u001b[1;33m,\u001b[0m \u001b[1;32mNone\u001b[0m\u001b[1;33m)\u001b[0m\u001b[1;33m\u001b[0m\u001b[0m\n\u001b[1;32m--> 115\u001b[1;33m         \u001b[0mSparkContext\u001b[0m\u001b[1;33m.\u001b[0m\u001b[0m_ensure_initialized\u001b[0m\u001b[1;33m(\u001b[0m\u001b[0mself\u001b[0m\u001b[1;33m,\u001b[0m \u001b[0mgateway\u001b[0m\u001b[1;33m=\u001b[0m\u001b[0mgateway\u001b[0m\u001b[1;33m,\u001b[0m \u001b[0mconf\u001b[0m\u001b[1;33m=\u001b[0m\u001b[0mconf\u001b[0m\u001b[1;33m)\u001b[0m\u001b[1;33m\u001b[0m\u001b[0m\n\u001b[0m\u001b[0;32m    116\u001b[0m         \u001b[1;32mtry\u001b[0m\u001b[1;33m:\u001b[0m\u001b[1;33m\u001b[0m\u001b[0m\n\u001b[0;32m    117\u001b[0m             self._do_init(master, appName, sparkHome, pyFiles, environment, batchSize, serializer,\n",
      "\u001b[1;32m~\\Sync\\HTL\\HTL_5_Jahr\\Insy\\Semester_I\\Python\\Beispiele\\pyspark\\context.py\u001b[0m in \u001b[0;36m_ensure_initialized\u001b[1;34m(cls, instance, gateway, conf)\u001b[0m\n\u001b[0;32m    273\u001b[0m                         \u001b[1;34m\" created by %s at %s:%s \"\u001b[0m\u001b[1;33m\u001b[0m\u001b[0m\n\u001b[0;32m    274\u001b[0m                         % (currentAppName, currentMaster,\n\u001b[1;32m--> 275\u001b[1;33m                             callsite.function, callsite.file, callsite.linenum))\n\u001b[0m\u001b[0;32m    276\u001b[0m                 \u001b[1;32melse\u001b[0m\u001b[1;33m:\u001b[0m\u001b[1;33m\u001b[0m\u001b[0m\n\u001b[0;32m    277\u001b[0m                     \u001b[0mSparkContext\u001b[0m\u001b[1;33m.\u001b[0m\u001b[0m_active_spark_context\u001b[0m \u001b[1;33m=\u001b[0m \u001b[0minstance\u001b[0m\u001b[1;33m\u001b[0m\u001b[0m\n",
      "\u001b[1;31mValueError\u001b[0m: Cannot run multiple SparkContexts at once; existing SparkContext(app=BabyNames3, master=local) created by __init__ at <ipython-input-3-05fa0f37c645>:2 "
     ]
    }
   ],
   "source": [
    "l_conf = SparkConf().setAppName(\"BabyNames3\").setMaster(\"local\")\n",
    "sc = SparkContext(conf=l_conf)"
   ]
  },
  {
   "cell_type": "code",
   "execution_count": 8,
   "metadata": {
    "collapsed": true
   },
   "outputs": [],
   "source": [
    "rdd = sc\\\n",
    "    .textFile(\"data/BabyNames/Baby18802017.csv\")\\\n",
    "    .map(lambda x: x.split(\",\"))\\\n",
    "    .cache()"
   ]
  },
  {
   "cell_type": "code",
   "execution_count": 4,
   "metadata": {},
   "outputs": [
    {
     "data": {
      "text/plain": [
       "1957047"
      ]
     },
     "execution_count": 4,
     "metadata": {},
     "output_type": "execute_result"
    }
   ],
   "source": [
    "rdd.count()"
   ]
  },
  {
   "cell_type": "code",
   "execution_count": 6,
   "metadata": {},
   "outputs": [
    {
     "data": {
      "text/plain": [
       "233"
      ]
     },
     "execution_count": 6,
     "metadata": {},
     "output_type": "execute_result"
    }
   ],
   "source": [
    "rdd.filter(lambda x: x[0] == \"Peter\").count()"
   ]
  },
  {
   "cell_type": "code",
   "execution_count": 7,
   "metadata": {},
   "outputs": [
    {
     "data": {
      "text/plain": [
       "[['Peter', 'F', '6', '2000'], ['Peter', 'M', '3146', '2000']]"
      ]
     },
     "execution_count": 7,
     "metadata": {},
     "output_type": "execute_result"
    }
   ],
   "source": [
    "rdd.filter(lambda x: x[0] == \"Peter\")\\\n",
    "    .filter(lambda x: x[3] == \"2000\")\\\n",
    "    .collect()"
   ]
  },
  {
   "cell_type": "code",
   "execution_count": 8,
   "metadata": {},
   "outputs": [
    {
     "data": {
      "text/plain": [
       "[('1880', '496'),\n",
       " ('1967', '24'),\n",
       " ('1929', '25'),\n",
       " ('1956', '19'),\n",
       " ('1967', '8321'),\n",
       " ('1916', '13'),\n",
       " ('1943', '17'),\n",
       " ('1976', '34'),\n",
       " ('1929', '3216'),\n",
       " ('1882', '461'),\n",
       " ('1956', '11326'),\n",
       " ('1983', '37'),\n",
       " ('1943', '6877'),\n",
       " ('1881', '428'),\n",
       " ('1883', '450'),\n",
       " ('1884', '524'),\n",
       " ('1968', '30'),\n",
       " ('1976', '5446'),\n",
       " ('1930', '16'),\n",
       " ('1930', '3266')]"
      ]
     },
     "execution_count": 8,
     "metadata": {},
     "output_type": "execute_result"
    }
   ],
   "source": [
    "rdd\\\n",
    "    .filter(lambda x: x[0] == \"Peter\")\\\n",
    "    .map(lambda x: (x[3], x[2]))\\\n",
    "    .take(20)"
   ]
  },
  {
   "cell_type": "code",
   "execution_count": 25,
   "metadata": {
    "collapsed": true
   },
   "outputs": [],
   "source": [
    "rddYearAndName = rdd\\\n",
    "    .filter(lambda x: x[0] == \"Kevin\")\\\n",
    "    .map(lambda x: (x[3], x[2]))\n"
   ]
  },
  {
   "cell_type": "code",
   "execution_count": null,
   "metadata": {
    "collapsed": true
   },
   "outputs": [],
   "source": []
  },
  {
   "cell_type": "raw",
   "metadata": {},
   "source": [
    "rddYearAndName.take(10)"
   ]
  },
  {
   "cell_type": "code",
   "execution_count": 26,
   "metadata": {
    "collapsed": true
   },
   "outputs": [],
   "source": [
    "results = rddYearAndName.reduceByKey(lambda x, y: int(x) + int(y)).collect()"
   ]
  },
  {
   "cell_type": "code",
   "execution_count": 27,
   "metadata": {},
   "outputs": [
    {
     "name": "stdout",
     "output_type": "stream",
     "text": [
      "[('1912', '9'), ('1913', '9'), ('1914', '12'), ('1915', '15'), ('1916', '18'), ('1917', '19'), ('1918', '21'), ('1919', '14'), ('1920', '24'), ('1921', '84'), ('1922', '71'), ('1923', '53'), ('1924', '50'), ('1925', '61'), ('1926', '46'), ('1927', '67'), ('1928', '68'), ('1929', '76'), ('1930', '84'), ('1931', '112'), ('1932', '121'), ('1933', '132'), ('1934', '151'), ('1935', '175'), ('1936', '153'), ('1937', '178'), ('1938', 252), ('1939', 278), ('1940', '298'), ('1941', 425), ('1942', '530'), ('1943', 644), ('1944', 601), ('1945', 704), ('1946', 1051), ('1947', 1564), ('1948', 2257), ('1949', 3323), ('1950', 4792), ('1951', 6397), ('1952', 7964), ('1953', 10076), ('1954', 15400), ('1955', 17221), ('1956', 21835), ('1957', 24354), ('1958', 24744), ('1959', 26860), ('1960', 28482), ('1961', 29001), ('1962', 28439), ('1963', 30740), ('1964', 29478), ('1965', 28306), ('1966', 25713), ('1967', 24729), ('1968', 23996), ('1969', 23691), ('1970', 27109), ('1971', 25004), ('1972', 22481), ('1973', 20915), ('1974', 19600), ('1975', 18190), ('1976', 18594), ('1977', 22624), ('1978', 20216), ('1979', 18859), ('1980', 18101), ('1981', 17575), ('1982', 17585), ('1983', 17528), ('1984', 17987), ('1985', 18959), ('1986', 20079), ('1987', 20560), ('1988', 20276), ('1989', 21309), ('1990', 20477), ('1991', 20342), ('1992', 19694), ('1993', 19132), ('1994', 17365), ('1995', 15911), ('1996', 14619), ('1997', 13325), ('1998', 12523), ('1999', 12291), ('2000', 12700), ('2001', 12629), ('2002', 12074), ('2003', 11759), ('2004', 11263), ('2005', 10941), ('2006', 10802), ('2007', 10555), ('2008', 9807), ('2009', 8793), ('2010', 7330), ('2011', 6577), ('2012', 6231), ('2013', 5945), ('2014', 5910), ('2015', 5187), ('2016', 4551), ('2017', 3827), ('2018', '3124')]\n"
     ]
    }
   ],
   "source": [
    "print(sorted(results))"
   ]
  },
  {
   "cell_type": "markdown",
   "metadata": {},
   "source": [
    "### Aufgabe: Zeichne daraus einen Graphen!"
   ]
  },
  {
   "cell_type": "code",
   "execution_count": 28,
   "metadata": {
    "collapsed": true
   },
   "outputs": [],
   "source": [
    "import matplotlib.pyplot as plt\n",
    "\n",
    "%matplotlib inline"
   ]
  },
  {
   "cell_type": "code",
   "execution_count": 29,
   "metadata": {
    "collapsed": true
   },
   "outputs": [],
   "source": [
    "results = rddYearAndName.reduceByKey(lambda x, y: int(x) + int(y)).collect()\n",
    "#print (results)"
   ]
  },
  {
   "cell_type": "code",
   "execution_count": 30,
   "metadata": {},
   "outputs": [
    {
     "name": "stdout",
     "output_type": "stream",
     "text": [
      "[('1912', '9'), ('1913', '9'), ('1914', '12'), ('1915', '15'), ('1916', '18'), ('1917', '19'), ('1918', '21'), ('1919', '14'), ('1920', '24'), ('1921', '84'), ('1922', '71'), ('1923', '53'), ('1924', '50'), ('1925', '61'), ('1926', '46'), ('1927', '67'), ('1928', '68'), ('1929', '76'), ('1930', '84'), ('1931', '112'), ('1932', '121'), ('1933', '132'), ('1934', '151'), ('1935', '175'), ('1936', '153'), ('1937', '178'), ('1938', 252), ('1939', 278), ('1940', '298'), ('1941', 425), ('1942', '530'), ('1943', 644), ('1944', 601), ('1945', 704), ('1946', 1051), ('1947', 1564), ('1948', 2257), ('1949', 3323), ('1950', 4792), ('1951', 6397), ('1952', 7964), ('1953', 10076), ('1954', 15400), ('1955', 17221), ('1956', 21835), ('1957', 24354), ('1958', 24744), ('1959', 26860), ('1960', 28482), ('1961', 29001), ('1962', 28439), ('1963', 30740), ('1964', 29478), ('1965', 28306), ('1966', 25713), ('1967', 24729), ('1968', 23996), ('1969', 23691), ('1970', 27109), ('1971', 25004), ('1972', 22481), ('1973', 20915), ('1974', 19600), ('1975', 18190), ('1976', 18594), ('1977', 22624), ('1978', 20216), ('1979', 18859), ('1980', 18101), ('1981', 17575), ('1982', 17585), ('1983', 17528), ('1984', 17987), ('1985', 18959), ('1986', 20079), ('1987', 20560), ('1988', 20276), ('1989', 21309), ('1990', 20477), ('1991', 20342), ('1992', 19694), ('1993', 19132), ('1994', 17365), ('1995', 15911), ('1996', 14619), ('1997', 13325), ('1998', 12523), ('1999', 12291), ('2000', 12700), ('2001', 12629), ('2002', 12074), ('2003', 11759), ('2004', 11263), ('2005', 10941), ('2006', 10802), ('2007', 10555), ('2008', 9807), ('2009', 8793), ('2010', 7330), ('2011', 6577), ('2012', 6231), ('2013', 5945), ('2014', 5910), ('2015', 5187), ('2016', 4551), ('2017', 3827), ('2018', '3124')]\n"
     ]
    }
   ],
   "source": [
    "results = sorted(results)\n",
    "print(results)"
   ]
  },
  {
   "cell_type": "code",
   "execution_count": 31,
   "metadata": {
    "collapsed": true
   },
   "outputs": [],
   "source": [
    "x = []\n",
    "y = []\n",
    "\n",
    "for result in results:\n",
    "    x.append(int(result[0]))\n",
    "    y.append(int(result[1]))"
   ]
  },
  {
   "cell_type": "code",
   "execution_count": 32,
   "metadata": {},
   "outputs": [
    {
     "data": {
      "image/png": "[encoded data removed]",
      "text/plain": [
       "<Figure size 432x288 with 1 Axes>"
      ]
     },
     "metadata": {},
     "output_type": "display_data"
    }
   ],
   "source": [
    "plt.plot(x, y)\n",
    "plt.show()"
   ]
  },
  {
   "cell_type": "code",
   "execution_count": null,
   "metadata": {
    "collapsed": true
   },
   "outputs": [],
   "source": []
  }
 ],
 "metadata": {
  "kernelspec": {
   "display_name": "Python 3",
   "language": "python",
   "name": "python3"
  },
  "language_info": {
   "codemirror_mode": {
    "name": "ipython",
    "version": 3
   },
   "file_extension": ".py",
   "mimetype": "text/x-python",
   "name": "python",
   "nbconvert_exporter": "python",
   "pygments_lexer": "ipython3",
   "version": "3.6.3"
  }
 },
 "nbformat": 4,
 "nbformat_minor": 2
}
