{
 "cells": [
  {
   "cell_type": "code",
   "execution_count": 1,
   "metadata": {
    "collapsed": true
   },
   "outputs": [],
   "source": [
    "from pyspark import SparkContext, SparkConf\n",
    "import initspark"
   ]
  },
  {
   "cell_type": "code",
   "execution_count": 2,
   "metadata": {
    "collapsed": true
   },
   "outputs": [],
   "source": [
    "conf = SparkConf().setAppName(\"GoetheFaust\").setMaster(\"local\")\n",
    "sc = SparkContext(conf=conf)"
   ]
  },
  {
   "cell_type": "code",
   "execution_count": 3,
   "metadata": {
    "collapsed": true
   },
   "outputs": [],
   "source": [
    "rdd = sc.textFile(\"data/goethe/faust.txt\").cache()"
   ]
  },
  {
   "cell_type": "markdown",
   "metadata": {},
   "source": [
    "### Aufgabe: Goethe Faust\n",
    "\n",
    "Welches Wort kommt am Häufigsten vor?\n",
    "\n",
    "*Hinweis:* Wenn du eine Zeile in einzelne Worte zerlegst, reicht ein .split(\" \") aus. Wörter mit einem Satzzeichen dahinter zählen als separates Wort. Du brauchst Satzzeichen also nicht zu entfernen.\n",
    "\n",
    "**Beispiel:** `\"Hallo Hallo, Hallo\"`. Hier kommt...\n",
    "\n",
    "- das Wort `\"Hallo\"` 2x vor, und\n",
    "- das Wort `\"Hallo,\"` 1x vor.\n",
    "\n",
    "*Hinweis 2:* Die ersten paar Zeilen der Textdatei (ca. 50) enthalten einen Copyright - Hinweis. Du brauchst diese nicht zu entfernen, wir tun so, als würde er mit zum Buch gehören.\n",
    "\n",
    "*Hinweis 3:* Groß- und Kleinschreibung zählt auch als unterschiedliches Wort. Beispiel: `\"Hallo hallo Hallo\"`, hier kommt...\n",
    "\n",
    "- das Wort `\"Hallo\"` 2x vor, und\n",
    "- das Wort `\"hallo\"` 1x vor.\n",
    "\n",
    "#### Aufgabe\n",
    "\n",
    "Welches Wort kommt am Häufigsten vor?"
   ]
  },
  {
   "cell_type": "code",
   "execution_count": 7,
   "metadata": {},
   "outputs": [
    {
     "data": {
      "text/plain": [
       "['  Faust: Der Tragödie erster Teil',\n",
       " '',\n",
       " '  Johann Wolfgang von Goethe',\n",
       " '',\n",
       " '',\n",
       " '  Zueignung.',\n",
       " '',\n",
       " '  Ihr naht euch wieder, schwankende Gestalten,',\n",
       " '  Die früh sich einst dem trüben Blick gezeigt.',\n",
       " '  Versuch ich wohl, euch diesmal festzuhalten?']"
      ]
     },
     "execution_count": 7,
     "metadata": {},
     "output_type": "execute_result"
    }
   ],
   "source": [
    "rdd.take(10)"
   ]
  },
  {
   "cell_type": "code",
   "execution_count": 5,
   "metadata": {},
   "outputs": [
    {
     "data": {
      "text/plain": [
       "['The', 'Project', 'Gutenberg', 'EBook', 'of']"
      ]
     },
     "execution_count": 5,
     "metadata": {},
     "output_type": "execute_result"
    }
   ],
   "source": [
    "rdd\\\n",
    "    .flatMap(lambda x: x.split(\" \"))\\\n",
    "    .take(5)"
   ]
  },
  {
   "cell_type": "code",
   "execution_count": 6,
   "metadata": {},
   "outputs": [
    {
     "data": {
      "text/plain": [
       "[('The', 1), ('Project', 1), ('Gutenberg', 1), ('EBook', 1), ('of', 1)]"
      ]
     },
     "execution_count": 6,
     "metadata": {},
     "output_type": "execute_result"
    }
   ],
   "source": [
    "rdd\\\n",
    "    .flatMap(lambda x: x.split(\" \"))\\\n",
    "    .map(lambda x: (x, 1))\\\n",
    "    .take(5)"
   ]
  },
  {
   "cell_type": "code",
   "execution_count": 7,
   "metadata": {},
   "outputs": [
    {
     "data": {
      "text/plain": [
       "[('The', 12), ('Project', 78), ('Gutenberg', 23), ('EBook', 2), ('of', 108)]"
      ]
     },
     "execution_count": 7,
     "metadata": {},
     "output_type": "execute_result"
    }
   ],
   "source": [
    "rdd\\\n",
    "    .flatMap(lambda x: x.split(\" \"))\\\n",
    "    .map(lambda x: (x, 1))\\\n",
    "    .reduceByKey(lambda x, y: x + y)\\\n",
    "    .take(5)"
   ]
  },
  {
   "cell_type": "code",
   "execution_count": 8,
   "metadata": {},
   "outputs": [
    {
     "data": {
      "text/plain": [
       "[(12, 'The'), (78, 'Project'), (23, 'Gutenberg'), (2, 'EBook'), (108, 'of')]"
      ]
     },
     "execution_count": 8,
     "metadata": {},
     "output_type": "execute_result"
    }
   ],
   "source": [
    "rdd\\\n",
    "    .flatMap(lambda x: x.split(\" \"))\\\n",
    "    .map(lambda x: (x, 1))\\\n",
    "    .reduceByKey(lambda x, y: x + y)\\\n",
    "    .map(lambda x: (x[1], x[0]))\\\n",
    "    .take(5)"
   ]
  },
  {
   "cell_type": "code",
   "execution_count": 9,
   "metadata": {},
   "outputs": [
    {
     "data": {
      "text/plain": [
       "[(509, 'und'), (462, 'die'), (440, 'der'), (435, 'ich'), (400, 'Und')]"
      ]
     },
     "execution_count": 9,
     "metadata": {},
     "output_type": "execute_result"
    }
   ],
   "source": [
    "rdd\\\n",
    "    .flatMap(lambda x: x.split(\" \"))\\\n",
    "    .map(lambda x: (x, 1))\\\n",
    "    .reduceByKey(lambda x, y: x + y)\\\n",
    "    .map(lambda x: (x[1], x[0]))\\\n",
    "    .sortByKey(ascending = False)\\\n",
    "    .filter(lambda x: x[1] != \"\")\\\n",
    "    .take(5)"
   ]
  },
  {
   "cell_type": "code",
   "execution_count": null,
   "metadata": {
    "collapsed": true
   },
   "outputs": [],
   "source": []
  }
 ],
 "metadata": {
  "kernelspec": {
   "display_name": "Python 3",
   "language": "python",
   "name": "python3"
  },
  "language_info": {
   "codemirror_mode": {
    "name": "ipython",
    "version": 3
   },
   "file_extension": ".py",
   "mimetype": "text/x-python",
   "name": "python",
   "nbconvert_exporter": "python",
   "pygments_lexer": "ipython3",
   "version": "3.6.3"
  }
 },
 "nbformat": 4,
 "nbformat_minor": 2
}
