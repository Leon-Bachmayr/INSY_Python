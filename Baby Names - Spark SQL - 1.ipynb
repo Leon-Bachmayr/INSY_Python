{
 "cells": [
  {
   "cell_type": "markdown",
   "metadata": {},
   "source": [
    "## Spark SQL"
   ]
  },
  {
   "cell_type": "code",
   "execution_count": 1,
   "metadata": {
    "collapsed": true
   },
   "outputs": [],
   "source": [
    "from pyspark.sql import SparkSession\n",
    "\n",
    "import initspark"
   ]
  },
  {
   "cell_type": "markdown",
   "metadata": {},
   "source": [
    "Wir erstellen eine neue Spark-SQL - Instanz"
   ]
  },
  {
   "cell_type": "code",
   "execution_count": 2,
   "metadata": {
    "collapsed": true
   },
   "outputs": [],
   "source": [
    "spark = SparkSession \\\n",
    "    .builder \\\n",
    "    .appName(\"PythonSpark\") \\\n",
    "    .getOrCreate()"
   ]
  },
  {
   "cell_type": "markdown",
   "metadata": {},
   "source": [
    "Und lesen ein paar Daten ein"
   ]
  },
  {
   "cell_type": "code",
   "execution_count": 3,
   "metadata": {
    "collapsed": true
   },
   "outputs": [],
   "source": [
    "data = spark.read.option(\"header\", True).csv(\"data/BabyNames/Baby18802017.csv\").cache()"
   ]
  },
  {
   "cell_type": "code",
   "execution_count": 4,
   "metadata": {
    "scrolled": true
   },
   "outputs": [
    {
     "name": "stdout",
     "output_type": "stream",
     "text": [
      "+----------+------+------+----+\n",
      "|      Name|Gender|Number|Year|\n",
      "+----------+------+------+----+\n",
      "|      Dwan|     M|    28|1975|\n",
      "|     Giles|     M|    28|1975|\n",
      "|    Hernan|     M|    28|1975|\n",
      "|      Iran|     M|    28|1975|\n",
      "|    Jabbar|     M|    28|1975|\n",
      "|      Jamy|     M|    28|1975|\n",
      "|    Jerron|     M|    28|1975|\n",
      "|      Jimi|     M|    28|1975|\n",
      "|   Justice|     M|    28|1975|\n",
      "|     Lonzo|     M|    28|1975|\n",
      "|    Malcom|     M|    28|1975|\n",
      "|  Marquise|     M|    28|1975|\n",
      "|Maximilian|     M|    28|1975|\n",
      "|      Mick|     M|    28|1975|\n",
      "|   Roderic|     M|    28|1975|\n",
      "|  Sheridan|     M|    28|1975|\n",
      "|     Sixto|     M|    28|1975|\n",
      "|  Stafford|     M|    28|1975|\n",
      "|   Stephon|     M|    28|1975|\n",
      "|    Sydney|     M|    28|1975|\n",
      "+----------+------+------+----+\n",
      "only showing top 20 rows\n",
      "\n"
     ]
    }
   ],
   "source": [
    "data.show()"
   ]
  },
  {
   "cell_type": "code",
   "execution_count": 6,
   "metadata": {},
   "outputs": [
    {
     "name": "stdout",
     "output_type": "stream",
     "text": [
      "+---------+------+------+----+\n",
      "|     Name|Gender|Number|Year|\n",
      "+---------+------+------+----+\n",
      "|     Mary|     F| 16706|1900|\n",
      "|    Helen|     F|  6343|1900|\n",
      "|     Anna|     F|  6114|1900|\n",
      "| Margaret|     F|  5304|1900|\n",
      "|     Ruth|     F|  4765|1900|\n",
      "|Elizabeth|     F|  4096|1900|\n",
      "| Florence|     F|  3920|1900|\n",
      "|    Ethel|     F|  3896|1900|\n",
      "|    Marie|     F|  3856|1900|\n",
      "|  Lillian|     F|  3414|1900|\n",
      "|    Annie|     F|  3324|1900|\n",
      "|     Edna|     F|  3102|1900|\n",
      "|     Emma|     F|  3095|1900|\n",
      "|    Alice|     F|  3059|1900|\n",
      "|   Bessie|     F|  3044|1900|\n",
      "|   Bertha|     F|  3019|1900|\n",
      "|    Grace|     F|  2942|1900|\n",
      "|     Rose|     F|  2845|1900|\n",
      "|    Clara|     F|  2826|1900|\n",
      "|  Mildred|     F|  2800|1900|\n",
      "+---------+------+------+----+\n",
      "only showing top 20 rows\n",
      "\n"
     ]
    }
   ],
   "source": [
    "data.where(data.Year == \"1900\").show()"
   ]
  },
  {
   "cell_type": "code",
   "execution_count": 7,
   "metadata": {},
   "outputs": [
    {
     "name": "stdout",
     "output_type": "stream",
     "text": [
      "Column<b'Year'>\n",
      "Column<b'Year'>\n"
     ]
    }
   ],
   "source": [
    "print(data.Year)\n",
    "print(data[\"Year\"])"
   ]
  },
  {
   "cell_type": "code",
   "execution_count": 8,
   "metadata": {},
   "outputs": [
    {
     "name": "stdout",
     "output_type": "stream",
     "text": [
      "Column<b'(State = CA)'>\n"
     ]
    }
   ],
   "source": [
    "print(data.State == \"CA\")"
   ]
  },
  {
   "cell_type": "code",
   "execution_count": 8,
   "metadata": {},
   "outputs": [
    {
     "name": "stdout",
     "output_type": "stream",
     "text": [
      "+---------+------+------+----+\n",
      "|     Name|Gender|Number|Year|\n",
      "+---------+------+------+----+\n",
      "|     Emma|     F| 20936|2014|\n",
      "|   Olivia|     F| 19807|2014|\n",
      "|   Sophia|     F| 18609|2014|\n",
      "| Isabella|     F| 17089|2014|\n",
      "|      Ava|     F| 15696|2014|\n",
      "|      Mia|     F| 13512|2014|\n",
      "|    Emily|     F| 12647|2014|\n",
      "|  Abigail|     F| 12085|2014|\n",
      "|  Madison|     F| 10320|2014|\n",
      "|Charlotte|     F| 10115|2014|\n",
      "|   Harper|     F|  9608|2014|\n",
      "|    Sofia|     F|  9597|2014|\n",
      "|    Avery|     F|  9568|2014|\n",
      "|Elizabeth|     F|  9564|2014|\n",
      "|   Amelia|     F|  8795|2014|\n",
      "|   Evelyn|     F|  8747|2014|\n",
      "|     Ella|     F|  8553|2014|\n",
      "|    Chloe|     F|  8538|2014|\n",
      "| Victoria|     F|  7996|2014|\n",
      "|    Grace|     F|  7641|2014|\n",
      "+---------+------+------+----+\n",
      "only showing top 20 rows\n",
      "\n"
     ]
    }
   ],
   "source": [
    "data.where(data.Year == \"2014\").where(data.Gender == \"F\").show()"
   ]
  },
  {
   "cell_type": "code",
   "execution_count": null,
   "metadata": {
    "collapsed": true
   },
   "outputs": [],
   "source": []
  }
 ],
 "metadata": {
  "kernelspec": {
   "display_name": "Python 3",
   "language": "python",
   "name": "python3"
  },
  "language_info": {
   "codemirror_mode": {
    "name": "ipython",
    "version": 3
   },
   "file_extension": ".py",
   "mimetype": "text/x-python",
   "name": "python",
   "nbconvert_exporter": "python",
   "pygments_lexer": "ipython3",
   "version": "3.6.3"
  }
 },
 "nbformat": 4,
 "nbformat_minor": 2
}
